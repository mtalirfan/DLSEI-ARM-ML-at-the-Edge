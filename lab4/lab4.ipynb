{
 "cells": [
  {
   "cell_type": "markdown",
   "id": "ac3ce419-8d56-423c-9c63-61230db63427",
   "metadata": {},
   "source": [
    "# Lab 4: Image Processing with ARM Cortex-M, CMSIS-NN, and CIFAR-10 Dataset\n",
    "\n",
    "In this lab, we're going to train a simple convolutional neural network (CNN) for image classification and deploy it on the MCU with the previously introduced tools and methods. CIFAR-10 is one of the most well known open-source datasets for image classifiers consisting of 10 classes."
   ]
  },
  {
   "cell_type": "markdown",
   "id": "622858b4-19d7-46b0-97da-64cc939caca2",
   "metadata": {},
   "source": [
    "### Preparation"
   ]
  },
  {
   "cell_type": "code",
   "execution_count": null,
   "id": "5113ecef-641c-4e44-b328-8e60a0159e8e",
   "metadata": {},
   "outputs": [],
   "source": [
    "import tensorflow as tf\n",
    "\n",
    "from tensorflow.keras.models import Sequential\n",
    "from tensorflow.keras.layers import Dense, Conv2D, Dropout, Flatten, MaxPooling2D, BatchNormalization, Activation\n",
    "\n",
    "import matplotlib.pyplot as plt\n",
    "import matplotlib.image as mpimg\n",
    "\n",
    "import numpy as np\n",
    "import random\n",
    "\n",
    "from PIL import Image\n",
    "\n",
    "import os"
   ]
  },
  {
   "cell_type": "markdown",
   "id": "8760ef21-ad74-4c31-9f20-a9f7ce6bb169",
   "metadata": {},
   "source": [
    "### Download and verify data"
   ]
  },
  {
   "cell_type": "code",
   "execution_count": null,
   "id": "3e2d33d9-f5e3-419d-aa95-ee84d2abc2cb",
   "metadata": {},
   "outputs": [],
   "source": [
    "# Load data from TF Keras\n",
    "(x_train, y_train), (x_test, y_test) = tf.keras.datasets.cifar10.load_data()\n",
    "\n",
    "# CIFAR10 class names\n",
    "class_names = ['Airplane', 'Automobile', 'Bird', 'Cat', 'Deer', 'Dog', 'Frog', 'Horse', 'Ship', 'Truck']\n",
    "num_classes = len(class_names)"
   ]
  },
  {
   "cell_type": "code",
   "execution_count": null,
   "id": "732ad9e2-c4af-4487-b608-614fd26db87b",
   "metadata": {},
   "outputs": [],
   "source": [
    "path_images = \"./Data/images/\"\n",
    "\n",
    "# Create directory\n",
    "if not os.path.exists(path_images):\n",
    "    os.mkdir(path_images)\n",
    "\n",
    "# Save one image per class \n",
    "ext=\".jpg\"\n",
    "for image_index in range(0,100):\n",
    "    im = Image.fromarray(x_test[image_index])\n",
    "    im.save(path_images+str(class_names[int(y_test[image_index])])+ext)"
   ]
  },
  {
   "cell_type": "code",
   "execution_count": null,
   "id": "046f7f00-0f57-4584-beab-9329b0e9b6d7",
   "metadata": {},
   "outputs": [],
   "source": [
    "# Show saved images\n",
    "files = os.listdir(path_images)  \n",
    "for img in files:\n",
    "    if os.path.splitext(img)[1] == ext and os.path.splitext(img)[0] in class_names:\n",
    "        #print(os.path.splitext(img)[0])\n",
    "        plt.subplot(2,5,class_names.index(os.path.splitext(img)[0])+1)\n",
    "        plt.xticks([])\n",
    "        plt.yticks([])\n",
    "        plt.grid(False)\n",
    "        plt.imshow(mpimg.imread(path_images+img),)\n",
    "        plt.xlabel(os.path.splitext(img)[0])\n",
    "plt.show()"
   ]
  },
  {
   "cell_type": "markdown",
   "id": "d32fcdaf",
   "metadata": {},
   "source": [
    "### Data preprocessing\n",
    "Here we normalise the images to be between 0 and 1 which is good practisse in deep learning."
   ]
  },
  {
   "cell_type": "code",
   "execution_count": null,
   "id": "00619893",
   "metadata": {},
   "outputs": [],
   "source": [
    "# Normalize pixel values to be between 0 and 1\n",
    "x_train = x_train.astype(np.float32)/255\n",
    "x_test = x_test.astype(np.float32)/255\n",
    "\n",
    "# Convert class vectors to binary class matrices.\n",
    "y_train = tf.keras.utils.to_categorical(y_train, num_classes)\n",
    "y_test = tf.keras.utils.to_categorical(y_test, num_classes)\n",
    "\n",
    "# Print arrays shape\n",
    "print('x_train shape:', x_train.shape)\n",
    "print('y_train shape:', y_train.shape)\n",
    "print('x_test shape:', x_test.shape)\n",
    "print('y_test shape:', y_test.shape)\n"
   ]
  },
  {
   "cell_type": "markdown",
   "id": "b0e215dc-066b-4c38-a753-a63e16400ee2",
   "metadata": {},
   "source": [
    "### Model creation"
   ]
  },
  {
   "cell_type": "code",
   "execution_count": null,
   "id": "ab4916be-8c82-4b67-8c1e-42c1f7e181d6",
   "metadata": {},
   "outputs": [],
   "source": [
    "batch_size = 32\n",
    "num_classes = len(class_names)\n",
    "epochs = 1\n",
    "img_rows, img_cols = x_train.shape[1], x_train.shape[2] # input image dimensions\n",
    "input_shape = (x_train.shape[1], x_train.shape[2], 1)"
   ]
  },
  {
   "cell_type": "code",
   "execution_count": null,
   "id": "b1016799-caad-4722-819a-ee073687b434",
   "metadata": {},
   "outputs": [],
   "source": [
    "# Creating a Sequential Model and adding the layers\n",
    "model = Sequential()\n",
    "model.add(Conv2D(16, (3, 3), padding='same', input_shape=(32,32,3)))\n",
    "model.add(BatchNormalization())\n",
    "model.add(Activation('relu'))\n",
    "model.add(Conv2D(16, (3, 3),padding='same'))\n",
    "model.add(Activation('relu'))\n",
    "model.add(MaxPooling2D(pool_size=(2, 2),strides=(2, 2)))\n",
    "model.add(Dropout(0.2))\n",
    "\n",
    "model.add(Conv2D(32, (3, 3), padding='same'))\n",
    "model.add(BatchNormalization())\n",
    "model.add(Activation('relu'))\n",
    "model.add(Conv2D(32, (3, 3),padding='same'))\n",
    "model.add(Activation('relu'))\n",
    "model.add(MaxPooling2D(pool_size=(2, 2),strides=(2, 2)))\n",
    "model.add(Dropout(0.3))\n",
    "\n",
    "model.add(Conv2D(64, (3, 3), padding='same'))\n",
    "model.add(BatchNormalization())\n",
    "model.add(Activation('relu'))\n",
    "model.add(Conv2D(64, (3, 3),padding='same'))\n",
    "model.add(Activation('relu'))\n",
    "model.add(MaxPooling2D(pool_size=(2, 2),strides=(2, 2)))\n",
    "model.add(Dropout(0.4))\n",
    "\n",
    "model.add(Flatten())\n",
    "model.add(Dense(32))\n",
    "model.add(Activation('relu'))\n",
    "model.add(Dropout(0.5))\n",
    "model.add(Dense(10)) #The number of classes we have\n",
    "model.add(Activation('softmax'))"
   ]
  },
  {
   "cell_type": "code",
   "execution_count": null,
   "id": "26707d55-bba5-4aa7-943d-c7924422bae3",
   "metadata": {},
   "outputs": [],
   "source": [
    "# check model structure and the number of parameters\n",
    "model.summary()\n",
    "\n",
    "# Let's train the model using Adam optimizer\n",
    "model.compile(loss='categorical_crossentropy', optimizer='adam', metrics=['accuracy'])"
   ]
  },
  {
   "cell_type": "code",
   "execution_count": null,
   "id": "a9df35d0-99ae-4723-95a1-98045f29954d",
   "metadata": {},
   "outputs": [],
   "source": [
    "# Train model\n",
    "history = model.fit(x=x_train,\n",
    "          y=y_train,\n",
    "          batch_size=batch_size,\n",
    "          epochs=epochs, \n",
    "          validation_data=(x_test, y_test))"
   ]
  },
  {
   "cell_type": "code",
   "execution_count": null,
   "id": "09f0216f-3d54-4e70-bed2-270af43dec5c",
   "metadata": {},
   "outputs": [],
   "source": [
    "# Save keras model\n",
    "path_models = \"./Data/models/\"\n",
    "path_keras_model = path_models + \"own_cifar10_model.h5\"\n",
    "\n",
    "# Create directory\n",
    "if not os.path.exists(path_models):\n",
    "    os.mkdir(path_models)\n",
    "\n",
    "model.save(path_keras_model)\n",
    "\n",
    "# Score trained model.\n",
    "scores = model.evaluate(x_test, y_test, verbose=1)\n",
    "print('Test loss:', scores[0])\n",
    "print('Test accuracy:', scores[1])"
   ]
  },
  {
   "cell_type": "code",
   "execution_count": null,
   "id": "9133c1a7",
   "metadata": {},
   "outputs": [],
   "source": [
    "# Evaluate the model\n",
    "plt.plot(history.history['accuracy'], label='accuracy')\n",
    "plt.plot(history.history['val_accuracy'], label = 'val_accuracy')\n",
    "plt.xlabel('Epoch')\n",
    "plt.ylabel('Accuracy')\n",
    "plt.ylim([0, 1])\n",
    "plt.legend(loc='lower right')\n",
    "\n",
    "test_loss, test_acc = model.evaluate(x_test,  y_test, verbose=2)"
   ]
  },
  {
   "cell_type": "markdown",
   "id": "3eedce51-dd9b-4a1c-8b69-0397ed6b8a2a",
   "metadata": {},
   "source": [
    "### Validation data creation"
   ]
  },
  {
   "cell_type": "code",
   "execution_count": null,
   "id": "f6d3110a-e54e-45ff-bc2d-8bdf780cd50a",
   "metadata": {},
   "outputs": [],
   "source": [
    "path_csv = \"./Data/\"\n",
    "path_csv_file = path_csv + \"own_cifar10_validation_20image.csv\"\n",
    "\n",
    "# Create directory\n",
    "if not os.path.exists(path_csv):\n",
    "    os.mkdir(path_csv)\n",
    "\n",
    "# Remove old csv file\n",
    "if os.path.exists(path_csv_file):\n",
    "    os.remove(path_csv_file)\n",
    "\n",
    "# Load data from TF Keras\n",
    "(x_train, y_train), (x_test, y_test) = tf.keras.datasets.cifar10.load_data()\n",
    "\n",
    "\n",
    "# CIFAR10 class names\n",
    "class_names = ['Airplane', 'Automobile', 'Bird', 'Cat', 'Deer', 'Dog', 'Frog', 'Horse', 'Ship', 'Truck']\n",
    "\n",
    "# Normalize pixel values to be between 0 and 1\n",
    "x_train = x_train.astype(np.float32)/255\n",
    "x_test = x_test.astype(np.float32)/255\n",
    "\n",
    "# Print arrays shape\n",
    "print('x_train shape:', x_train.shape)\n",
    "print('y_train shape:', y_train.shape)\n",
    "print('x_test shape:', x_test.shape)\n",
    "print('y_test shape:', y_test.shape)\n",
    "    \n",
    "# Save csv file that contain pixel's value\n",
    "num_sample = 50\n",
    "rx = random.sample(range(0,len(x_test)),num_sample)\n",
    "\n",
    "for i in range(0,num_sample):\n",
    "    data = x_test[rx[i]]\n",
    "    #print(data.shape)\n",
    "    data = data.flatten()\n",
    "    output = y_test[rx[i]]\n",
    "    data=np.append(data,output)\n",
    "    data = np.reshape(data, (1,data.shape[0]))\n",
    "    #print(data.shape)\n",
    "    with open(path_csv_file, 'ab') as f:\n",
    "        np.savetxt(f, data, delimiter=\",\")"
   ]
  },
  {
   "cell_type": "markdown",
   "id": "d2bf4a07-d5c1-4992-bb12-0cec9b7eae24",
   "metadata": {},
   "source": [
    "### Label creation"
   ]
  },
  {
   "cell_type": "code",
   "execution_count": null,
   "id": "b16bef73-882e-4404-b293-084be59d9578",
   "metadata": {},
   "outputs": [],
   "source": [
    "path_labels = \"./Data/labels/\"\n",
    "path_labels_file = path_labels+\"own_cifar10_labels.txt\"\n",
    "\n",
    "# Create directory\n",
    "if not os.path.exists(path_labels):\n",
    "    os.mkdir(path_labels)\n",
    "    \n",
    "# Remove old label file\n",
    "if os.path.exists(path_labels_file):\n",
    "    os.remove(path_labels_file)\n",
    "\n",
    "# Create label file\n",
    "for i in range(0,len(class_names)):\n",
    "    with open(path_labels_file, 'a') as f:\n",
    "        f.write(str(i)+\",\"+class_names[i]+\"\\n\")"
   ]
  },
  {
   "cell_type": "markdown",
   "id": "20b401ba",
   "metadata": {},
   "source": [
    "## Code credit\n",
    "Largely contributed\n",
    "- author = \"Pau Danilo Email: danilo.pau@st.com, Carra Alessandro\"\n",
    "- copyright = \"Copyright (c) 2018, STMicroelectronics\"\n",
    "- license = \"CC BY-NC-SA 3.0 IT - https://creativecommons.org/licenses/by-nc-sa/3.0/\""
   ]
  }
 ],
 "metadata": {
  "kernelspec": {
   "display_name": "Python 3 (ipykernel)",
   "language": "python",
   "name": "python3"
  },
  "language_info": {
   "codemirror_mode": {
    "name": "ipython",
    "version": 3
   },
   "file_extension": ".py",
   "mimetype": "text/x-python",
   "name": "python",
   "nbconvert_exporter": "python",
   "pygments_lexer": "ipython3",
   "version": "3.9.7"
  }
 },
 "nbformat": 4,
 "nbformat_minor": 5
}
